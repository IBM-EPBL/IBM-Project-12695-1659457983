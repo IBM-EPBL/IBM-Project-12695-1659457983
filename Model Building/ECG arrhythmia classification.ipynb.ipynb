{
  "nbformat": 4,
  "nbformat_minor": 0,
  "metadata": {
    "colab": {
      "provenance": [],
      "collapsed_sections": []
    },
    "kernelspec": {
      "name": "python3",
      "display_name": "Python 3"
    },
    "language_info": {
      "name": "python"
    }
  },
  "cells": [
    {
      "cell_type": "code",
      "source": [
        "!unzip '/content/Classification of Arrhythmia by Using Deep Learning with 2-D ECG Spectral Image Representation (3).zip'"
      ],
      "metadata": {
        "colab": {
          "base_uri": "https://localhost:8080/"
        },
        "id": "qRyMd7mSDxza",
        "outputId": "93a515cc-b5cf-4ff2-a373-b3d3db17c8bb"
      },
      "execution_count": 3,
      "outputs": [
        {
          "output_type": "stream",
          "name": "stdout",
          "text": [
            "Archive:  /content/Classification of Arrhythmia by Using Deep Learning with 2-D ECG Spectral Image Representation (3).zip\n",
            "replace data/test/Left Bundle Branch Block/fig_5897.png? [y]es, [n]o, [A]ll, [N]one, [r]ename: "
          ]
        }
      ]
    },
    {
      "cell_type": "code",
      "source": [
        " from keras.preprocessing.image import ImageDataGenerator"
      ],
      "metadata": {
        "id": "JC4C6uCw_-Jv"
      },
      "execution_count": 5,
      "outputs": []
    },
    {
      "cell_type": "code",
      "source": [
        "# setting parameters for data augmentation for training data\n",
        "train_datagen=ImageDataGenerator(rescale=1./255,shear_range=0.2,zoom_range=0.2,horizontal_flip=True)"
      ],
      "metadata": {
        "id": "jveb6iD9BGgP"
      },
      "execution_count": 6,
      "outputs": []
    },
    {
      "cell_type": "code",
      "source": [
        "# data augmentation to the testing data\n",
        "test_datagen=ImageDataGenerator(rescale=1./255)"
      ],
      "metadata": {
        "id": "Rt2fQXL1BLIf"
      },
      "execution_count": 7,
      "outputs": []
    },
    {
      "cell_type": "code",
      "source": [
        "#performing data augmentation to train data\n",
        "x_train=train_datagen.flow_from_directory(directory=r'/content/data/train',target_size=(64,64),batch_size=32,class_mode='categorical')"
      ],
      "metadata": {
        "colab": {
          "base_uri": "https://localhost:8080/"
        },
        "id": "M1PYk6q2B617",
        "outputId": "aba94251-2669-4d8c-c8a5-863766ed999f"
      },
      "execution_count": 8,
      "outputs": [
        {
          "output_type": "stream",
          "name": "stdout",
          "text": [
            "Found 15341 images belonging to 6 classes.\n"
          ]
        }
      ]
    },
    {
      "cell_type": "code",
      "source": [
        "x_test=test_datagen.flow_from_directory(directory=r'/content/data/test',target_size=(64,64),batch_size=32,class_mode='categorical')"
      ],
      "metadata": {
        "colab": {
          "base_uri": "https://localhost:8080/"
        },
        "id": "7v8Zk3SfEkoH",
        "outputId": "78968ef4-da75-4102-9319-2227f59070d4"
      },
      "execution_count": 9,
      "outputs": [
        {
          "output_type": "stream",
          "name": "stdout",
          "text": [
            "Found 6825 images belonging to 6 classes.\n"
          ]
        }
      ]
    },
    {
      "cell_type": "markdown",
      "source": [
        "Model Building"
      ],
      "metadata": {
        "id": "cvWrXjbpGNCm"
      }
    },
    {
      "cell_type": "markdown",
      "source": [
        "MODEL BUILDING- IMPORTING LIBRARIES"
      ],
      "metadata": {
        "id": "VCgm36qQGY9Y"
      }
    },
    {
      "cell_type": "code",
      "source": [
        "import numpy as np\n",
        "import tensorflow\n",
        "from tensorflow.keras.models import Sequential\n",
        "from tensorflow.keras import layers\n",
        "\n",
        "from tensorflow.keras.layers import Dense,Flatten\n",
        "\n",
        "from tensorflow.keras.layers import Conv2D,MaxPooling2D\n",
        "import tensorflow.keras"
      ],
      "metadata": {
        "id": "mNVUOTPNF5zg"
      },
      "execution_count": 10,
      "outputs": []
    },
    {
      "cell_type": "code",
      "source": [
        "model=Sequential()"
      ],
      "metadata": {
        "id": "o_EiT9tMGSmq"
      },
      "execution_count": 11,
      "outputs": []
    },
    {
      "cell_type": "markdown",
      "source": [
        " Adding CNN Layers"
      ],
      "metadata": {
        "id": "bnhoZ8aDHoZH"
      }
    },
    {
      "cell_type": "code",
      "source": [
        "model.add(Conv2D(32,(3,3),input_shape=(64,64,3),activation='relu')) #Activation Function\n",
        "model.add(MaxPooling2D(pool_size=(2,2))) #Downsampling Purposes\n",
        "model.add(Conv2D(32,(3,3),activation='relu'))\n",
        "model.add(MaxPooling2D(pool_size=(2,2)))\n",
        "model.add(Flatten()) #Flatten the dimensions of the image"
      ],
      "metadata": {
        "id": "fz208bXmH4gf"
      },
      "execution_count": 12,
      "outputs": []
    },
    {
      "cell_type": "markdown",
      "source": [
        "ADDING DENSE LAYERS"
      ],
      "metadata": {
        "id": "MpATZzinIMff"
      }
    },
    {
      "cell_type": "code",
      "source": [
        "model.add(Dense(32))# Deeply connected neural network layers\n",
        "model.add(Dense(6,activation='softmax'))#Output layer with 6 neurons"
      ],
      "metadata": {
        "id": "l3s60p0nIRw4"
      },
      "execution_count": 13,
      "outputs": []
    },
    {
      "cell_type": "code",
      "source": [
        "#Summary of the model\n",
        "model.summary()"
      ],
      "metadata": {
        "colab": {
          "base_uri": "https://localhost:8080/"
        },
        "id": "gGVTZ_A9Icl1",
        "outputId": "75ea0231-47e7-4192-a545-0782286444cd"
      },
      "execution_count": 14,
      "outputs": [
        {
          "output_type": "stream",
          "name": "stdout",
          "text": [
            "Model: \"sequential\"\n",
            "_________________________________________________________________\n",
            " Layer (type)                Output Shape              Param #   \n",
            "=================================================================\n",
            " conv2d (Conv2D)             (None, 62, 62, 32)        896       \n",
            "                                                                 \n",
            " max_pooling2d (MaxPooling2D  (None, 31, 31, 32)       0         \n",
            " )                                                               \n",
            "                                                                 \n",
            " conv2d_1 (Conv2D)           (None, 29, 29, 32)        9248      \n",
            "                                                                 \n",
            " max_pooling2d_1 (MaxPooling  (None, 14, 14, 32)       0         \n",
            " 2D)                                                             \n",
            "                                                                 \n",
            " flatten (Flatten)           (None, 6272)              0         \n",
            "                                                                 \n",
            " dense (Dense)               (None, 32)                200736    \n",
            "                                                                 \n",
            " dense_1 (Dense)             (None, 6)                 198       \n",
            "                                                                 \n",
            "=================================================================\n",
            "Total params: 211,078\n",
            "Trainable params: 211,078\n",
            "Non-trainable params: 0\n",
            "_________________________________________________________________\n"
          ]
        }
      ]
    },
    {
      "cell_type": "markdown",
      "source": [
        "EVALUATING LOSS FUNCTION"
      ],
      "metadata": {
        "id": "25SDKmICIiWj"
      }
    },
    {
      "cell_type": "code",
      "source": [
        "model.compile(optimizer='adam',loss='categorical_crossentropy',metrics=['accuracy'])"
      ],
      "metadata": {
        "id": "2XYVQkohIlLq"
      },
      "execution_count": 15,
      "outputs": []
    },
    {
      "cell_type": "markdown",
      "source": [
        "TRAINING THE MODEL"
      ],
      "metadata": {
        "id": "o8TDL7JXI3rP"
      }
    },
    {
      "cell_type": "code",
      "source": [
        "model.fit_generator(generator=x_train,steps_per_epoch = len(x_train), epochs=10, validation_data=x_test,validation_steps = len(x_test))"
      ],
      "metadata": {
        "colab": {
          "base_uri": "https://localhost:8080/"
        },
        "id": "bVabiKO4I6b8",
        "outputId": "ca8b4667-fc90-4629-e458-ba4c3072754b"
      },
      "execution_count": 16,
      "outputs": [
        {
          "output_type": "stream",
          "name": "stderr",
          "text": [
            "/usr/local/lib/python3.7/dist-packages/ipykernel_launcher.py:1: UserWarning: `Model.fit_generator` is deprecated and will be removed in a future version. Please use `Model.fit`, which supports generators.\n",
            "  \"\"\"Entry point for launching an IPython kernel.\n"
          ]
        },
        {
          "output_type": "stream",
          "name": "stdout",
          "text": [
            "Epoch 1/10\n",
            "480/480 [==============================] - 60s 125ms/step - loss: 0.7000 - accuracy: 0.7647 - val_loss: 0.4604 - val_accuracy: 0.8440\n",
            "Epoch 2/10\n",
            "480/480 [==============================] - 60s 126ms/step - loss: 0.2588 - accuracy: 0.9231 - val_loss: 0.3930 - val_accuracy: 0.8856\n",
            "Epoch 3/10\n",
            "480/480 [==============================] - 60s 126ms/step - loss: 0.2043 - accuracy: 0.9416 - val_loss: 0.3207 - val_accuracy: 0.9012\n",
            "Epoch 4/10\n",
            "480/480 [==============================] - 59s 124ms/step - loss: 0.1780 - accuracy: 0.9467 - val_loss: 0.3606 - val_accuracy: 0.9037\n",
            "Epoch 5/10\n",
            "480/480 [==============================] - 62s 129ms/step - loss: 0.1536 - accuracy: 0.9532 - val_loss: 0.3180 - val_accuracy: 0.9010\n",
            "Epoch 6/10\n",
            "480/480 [==============================] - 61s 127ms/step - loss: 0.1491 - accuracy: 0.9564 - val_loss: 0.3486 - val_accuracy: 0.8954\n",
            "Epoch 7/10\n",
            "480/480 [==============================] - 60s 126ms/step - loss: 0.1241 - accuracy: 0.9608 - val_loss: 0.3267 - val_accuracy: 0.9160\n",
            "Epoch 8/10\n",
            "480/480 [==============================] - 60s 126ms/step - loss: 0.1179 - accuracy: 0.9627 - val_loss: 0.3312 - val_accuracy: 0.9001\n",
            "Epoch 9/10\n",
            "480/480 [==============================] - 61s 126ms/step - loss: 0.1134 - accuracy: 0.9649 - val_loss: 0.3434 - val_accuracy: 0.9087\n",
            "Epoch 10/10\n",
            "480/480 [==============================] - 60s 125ms/step - loss: 0.0998 - accuracy: 0.9697 - val_loss: 0.3781 - val_accuracy: 0.9136\n"
          ]
        },
        {
          "output_type": "execute_result",
          "data": {
            "text/plain": [
              "<keras.callbacks.History at 0x7f3971fa39d0>"
            ]
          },
          "metadata": {},
          "execution_count": 16
        }
      ]
    },
    {
      "cell_type": "markdown",
      "source": [
        "SAVING THE MODEL"
      ],
      "metadata": {
        "id": "I_yYtlYtfcf-"
      }
    },
    {
      "cell_type": "code",
      "source": [
        "model.save('ECG_Classification.h5')"
      ],
      "metadata": {
        "id": "e9bfQd1efedL"
      },
      "execution_count": 17,
      "outputs": []
    },
    {
      "cell_type": "markdown",
      "source": [
        "TESTING THE MODEL"
      ],
      "metadata": {
        "id": "_G5uVLv4fnVZ"
      }
    },
    {
      "cell_type": "code",
      "source": [
        "from tensorflow.keras.models import load_model\n",
        "from tensorflow.keras.preprocessing import image\n",
        "model=load_model(\"ECG_Classification.h5\")"
      ],
      "metadata": {
        "id": "DJ4dx68mfotV"
      },
      "execution_count": 18,
      "outputs": []
    },
    {
      "cell_type": "code",
      "source": [
        "#Loading of image\n",
        "img=image.load_img(r'/content/data/test/Premature Atrial Contraction/fig_101.png',target_size=(64,64))\n",
        "#Converting image to array\n",
        "x=image.img_to_array(img)\n",
        "#Changing the shape\n",
        "x=np.expand_dims(x,axis=0)\n",
        "#Predicting the classes\n",
        "pred=model.predict(x)\n",
        "y_pred=np.argmax(pred)\n",
        "y_pred"
      ],
      "metadata": {
        "colab": {
          "base_uri": "https://localhost:8080/"
        },
        "id": "yyiBTHPHQH1t",
        "outputId": "30ac7b37-f558-435b-c31c-81e0e3201984"
      },
      "execution_count": 19,
      "outputs": [
        {
          "output_type": "stream",
          "name": "stdout",
          "text": [
            "1/1 [==============================] - 0s 82ms/step\n"
          ]
        },
        {
          "output_type": "execute_result",
          "data": {
            "text/plain": [
              "2"
            ]
          },
          "metadata": {},
          "execution_count": 19
        }
      ]
    },
    {
      "cell_type": "code",
      "source": [
        "index=['left Bundle Branch block','Normal','Premature Atrial Contraction','Premature Ventricular Contraction','Right Bundle Branch Block','Ventricular Fibrillation']\n",
        "result = str(index[y_pred])\n",
        "result"
      ],
      "metadata": {
        "colab": {
          "base_uri": "https://localhost:8080/",
          "height": 35
        },
        "id": "WddwOSUWQckv",
        "outputId": "b0256833-828e-4712-b0c2-8b556cb9aa00"
      },
      "execution_count": 20,
      "outputs": [
        {
          "output_type": "execute_result",
          "data": {
            "text/plain": [
              "'Premature Atrial Contraction'"
            ],
            "application/vnd.google.colaboratory.intrinsic+json": {
              "type": "string"
            }
          },
          "metadata": {},
          "execution_count": 20
        }
      ]
    }
  ]
}